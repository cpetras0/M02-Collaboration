{
 "cells": [
  {
   "cell_type": "code",
   "execution_count": 1,
   "id": "1e0686f0-fb0b-4816-9158-56d308e656f3",
   "metadata": {},
   "outputs": [
    {
     "name": "stdin",
     "output_type": "stream",
     "text": [
      "Please choose a number between 1 and 10:  6\n"
     ]
    },
    {
     "name": "stdout",
     "output_type": "stream",
     "text": [
      "too low\n"
     ]
    }
   ],
   "source": [
    "#Choose a number between 1 and 10 and assign it to the variable guess\n",
    "secret = 7\n",
    "\n",
    "# Select a number between 1 and 10 and assign it to the variable guess\n",
    "guess = int(input('Please choose a number between 1 and 10: '))\n",
    "\n",
    "#Write the conditional tests (if, else, and elif) to print the string\n",
    "# 'too low' if guess is less than secret\n",
    "# 'too high' if guess is greater than secret\n",
    "# 'just right if equal to secret\n",
    "\n",
    "if guess < secret:\n",
    "    print('too low')\n",
    "elif guess > secret:\n",
    "    print('too high')\n",
    "else:\n",
    "    print('just right')\n",
    "\n"
   ]
  },
  {
   "cell_type": "code",
   "execution_count": 3,
   "id": "a1ffc3b2-a4ff-41d8-9974-784d30cd2eeb",
   "metadata": {},
   "outputs": [
    {
     "name": "stdout",
     "output_type": "stream",
     "text": [
      "cherry\n"
     ]
    }
   ],
   "source": [
    "# Assign True or False to the variables small and green\n",
    "small = True\n",
    "green = False\n",
    "\n",
    "# Write some if/else statements to print which of these matches these choices: cherry, pea, watermelon, pumpkin\n",
    "if small:\n",
    "    if green:\n",
    "        print:('pea')\n",
    "    else: \n",
    "        print('cherry')\n",
    "else:\n",
    "    if green:\n",
    "        print('watermelon')\n",
    "    else:\n",
    "        print('pumpkin')"
   ]
  },
  {
   "cell_type": "code",
   "execution_count": 5,
   "id": "fc0deaea-3028-4af7-a5f0-6874faf81062",
   "metadata": {},
   "outputs": [
    {
     "name": "stdout",
     "output_type": "stream",
     "text": [
      "3\n",
      "2\n",
      "1\n",
      "0\n"
     ]
    }
   ],
   "source": [
    "#Use a for loop to print the values of the list [3, 2, 1, 0]\n",
    "for i in [3,2,1,0]:\n",
    "    print(i)"
   ]
  },
  {
   "cell_type": "code",
   "execution_count": 6,
   "id": "5356daab-722b-4826-9992-70fc7269df9f",
   "metadata": {},
   "outputs": [
    {
     "name": "stdout",
     "output_type": "stream",
     "text": [
      "too low\n",
      "too low\n",
      "too low\n",
      "too low\n",
      "too low\n",
      "too low\n",
      "too low\n",
      "found it!\n"
     ]
    }
   ],
   "source": [
    "# Assign the value 7 to the variable guess_me and the value 1 to the vriable number\n",
    "\n",
    "guess_me = 7\n",
    "number = 1\n",
    "\n",
    "#Write a while loop that compates number with guess_me\n",
    "while number <= guess_me:\n",
    "    print('too low')\n",
    "\n",
    "    if number == guess_me:\n",
    "        print('found it!')\n",
    "\n",
    "    if number > guess_me:\n",
    "        print('oops')\n",
    "\n",
    "    number += 1\n",
    "\n"
   ]
  },
  {
   "cell_type": "code",
   "execution_count": 7,
   "id": "edf6bc93-b049-4845-88f0-8ae032fc6492",
   "metadata": {},
   "outputs": [
    {
     "name": "stdout",
     "output_type": "stream",
     "text": [
      "too low\n",
      "too low\n",
      "too low\n",
      "too low\n",
      "too low\n",
      "found it\n",
      "oops\n",
      "oops\n",
      "oops\n",
      "oops\n"
     ]
    }
   ],
   "source": [
    "# Assign the value 5 to the vaiable guess_me\n",
    "guess_me = 5\n",
    "\n",
    "#Use a for loop to iterate a variable called number over range(10).\n",
    "# If number is less than guess_me, print 'too low'\n",
    "# If it equals guess_me, print 'found it!\n",
    "# If number is greater than guess_me, print 'oops' and then exit the loop\n",
    "\n",
    "for i in range(10):\n",
    "    if i < guess_me:\n",
    "        print('too low')\n",
    "    if i == guess_me:\n",
    "        print('found it')\n",
    "    if i > guess_me:\n",
    "        print('oops')"
   ]
  },
  {
   "cell_type": "code",
   "execution_count": null,
   "id": "128d9c48-cce5-40b8-948e-a00c5a069c6d",
   "metadata": {},
   "outputs": [],
   "source": []
  }
 ],
 "metadata": {
  "kernelspec": {
   "display_name": "Python 3 (ipykernel)",
   "language": "python",
   "name": "python3"
  },
  "language_info": {
   "codemirror_mode": {
    "name": "ipython",
    "version": 3
   },
   "file_extension": ".py",
   "mimetype": "text/x-python",
   "name": "python",
   "nbconvert_exporter": "python",
   "pygments_lexer": "ipython3",
   "version": "3.11.7"
  }
 },
 "nbformat": 4,
 "nbformat_minor": 5
}
